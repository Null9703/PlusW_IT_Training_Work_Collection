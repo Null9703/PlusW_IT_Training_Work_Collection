{
 "cells": [
  {
   "cell_type": "markdown",
   "id": "5d05cfa0-bb14-4bc0-8aca-4ede56ceaa0e",
   "metadata": {},
   "source": [
    "# PlusW IT Training Task 1:\n",
    "## By: Abtaal Aatif"
   ]
  },
  {
   "cell_type": "markdown",
   "id": "bd606d57-7022-4903-99a7-fffdbefe5da9",
   "metadata": {},
   "source": [
    "### Name Formatter and Length Calculator:"
   ]
  },
  {
   "cell_type": "code",
   "execution_count": 1,
   "id": "7b620827-9c94-47ed-87d0-0dd3697b8b07",
   "metadata": {},
   "outputs": [
    {
     "name": "stdin",
     "output_type": "stream",
     "text": [
      "Enter your first name: Abtaal\n",
      "Enter your last name: Aatif\n"
     ]
    },
    {
     "name": "stdout",
     "output_type": "stream",
     "text": [
      "First name (upper): ABTAAL\n",
      "Last name (lower): aatif\n",
      "Sum of letters in your first and last name: 11\n"
     ]
    }
   ],
   "source": [
    "first_name = input(\"Enter your first name:\").upper()\n",
    "last_name = input(\"Enter your last name:\").lower()\n",
    "total_letters = len(first_name) + len(last_name)\n",
    "print(f\"First name (upper): {first_name}\\nLast name (lower): {last_name}\")\n",
    "print(f\"Sum of letters in your first and last name: {total_letters}\")"
   ]
  },
  {
   "cell_type": "markdown",
   "id": "536ac606-f3c7-4695-9af6-69e569210750",
   "metadata": {},
   "source": [
    "### Simple Area Calculator for Various Shapes:"
   ]
  },
  {
   "cell_type": "code",
   "execution_count": 2,
   "id": "6544969d-f849-4607-92be-58b8e9fc5dbf",
   "metadata": {},
   "outputs": [
    {
     "name": "stdout",
     "output_type": "stream",
     "text": [
      "Calculate the area of following shapes:\n",
      "1. Circle\n",
      "2. Rectangle\n",
      "3. Square\n",
      "4. Triangle\n"
     ]
    }
   ],
   "source": [
    "print(\"Calculate the area of following shapes:\")\n",
    "print(\"1. Circle\")\n",
    "print(\"2. Rectangle\")\n",
    "print(\"3. Square\")\n",
    "print(\"4. Triangle\")"
   ]
  },
  {
   "cell_type": "code",
   "execution_count": 3,
   "id": "44bbc83a-a44d-4bc0-93e0-6cebead2835e",
   "metadata": {},
   "outputs": [
    {
     "name": "stdout",
     "output_type": "stream",
     "text": [
      "Find the area of Circle:\n"
     ]
    },
    {
     "name": "stdin",
     "output_type": "stream",
     "text": [
      "Enter the radius of the circle: 2\n"
     ]
    },
    {
     "name": "stdout",
     "output_type": "stream",
     "text": [
      "Area of the circle: 12.5663704\n"
     ]
    }
   ],
   "source": [
    "print(\"Find the area of Circle:\")\n",
    "radius = float(input(\"Enter the radius of the circle:\"))\n",
    "# For a more accurate value, we can use the pi constant in the math or numpy modules.\n",
    "# import math\n",
    "# area = math.pi*(radius**2)\n",
    "pi = 3.1415926\n",
    "area = pi*(radius**2)\n",
    "print(\"Area of the circle:\", area)"
   ]
  },
  {
   "cell_type": "code",
   "execution_count": 4,
   "id": "19e8115e-9361-4de2-8ed8-a73ee2596b96",
   "metadata": {},
   "outputs": [
    {
     "name": "stdout",
     "output_type": "stream",
     "text": [
      "Find the area of Rectangle:\n"
     ]
    },
    {
     "name": "stdin",
     "output_type": "stream",
     "text": [
      "Enter the length of the rectangle: 4\n",
      "Enter the width of the rectangle: 2.5\n"
     ]
    },
    {
     "name": "stdout",
     "output_type": "stream",
     "text": [
      "Area of the rectangle: 10.0\n"
     ]
    }
   ],
   "source": [
    "print(\"Find the area of Rectangle:\")\n",
    "length = float(input(\"Enter the length of the rectangle:\"))\n",
    "width = float(input(\"Enter the width of the rectangle:\"))\n",
    "area = length*width\n",
    "print(\"Area of the rectangle:\", area)"
   ]
  },
  {
   "cell_type": "code",
   "execution_count": 5,
   "id": "2578875a-2bb7-488c-93aa-dd4706589e35",
   "metadata": {},
   "outputs": [
    {
     "name": "stdout",
     "output_type": "stream",
     "text": [
      "Find the area of Square:\n"
     ]
    },
    {
     "name": "stdin",
     "output_type": "stream",
     "text": [
      "Enter the length of one side of the square: 3\n"
     ]
    },
    {
     "name": "stdout",
     "output_type": "stream",
     "text": [
      "Area of the square: 9.0\n"
     ]
    }
   ],
   "source": [
    "print(\"Find the area of Square:\")\n",
    "side = float(input(\"Enter the length of one side of the square:\"))\n",
    "area = side**2\n",
    "print(\"Area of the square:\", area)"
   ]
  },
  {
   "cell_type": "markdown",
   "id": "e9b050c3-1d30-4eeb-9149-acc3267c1d33",
   "metadata": {},
   "source": [
    "### Random Color-Based Password Generator in Python:"
   ]
  },
  {
   "cell_type": "code",
   "execution_count": 6,
   "id": "6a312826-1661-4df1-aa51-32f2404736b3",
   "metadata": {},
   "outputs": [],
   "source": [
    "import random"
   ]
  },
  {
   "cell_type": "code",
   "execution_count": 7,
   "id": "5a163bc2-902d-4903-8a58-6138e8247d00",
   "metadata": {},
   "outputs": [
    {
     "name": "stdout",
     "output_type": "stream",
     "text": [
      "Selected Color: orange\n",
      "Generated Password: egnaro\n"
     ]
    }
   ],
   "source": [
    "colors = [\"red\", \"blue\", \"green\", \"yellow\", \"orange\", \"purple\"]\n",
    "index = random.randint(0, len(colors) - 1)\n",
    "selected_color = colors[index]\n",
    "password = selected_color[::-1]\n",
    "print(\"Selected Color:\", selected_color)\n",
    "print(\"Generated Password:\", password)"
   ]
  }
 ],
 "metadata": {
  "kernelspec": {
   "display_name": "Python 3 (ipykernel)",
   "language": "python",
   "name": "python3"
  },
  "language_info": {
   "codemirror_mode": {
    "name": "ipython",
    "version": 3
   },
   "file_extension": ".py",
   "mimetype": "text/x-python",
   "name": "python",
   "nbconvert_exporter": "python",
   "pygments_lexer": "ipython3",
   "version": "3.12.7"
  }
 },
 "nbformat": 4,
 "nbformat_minor": 5
}
